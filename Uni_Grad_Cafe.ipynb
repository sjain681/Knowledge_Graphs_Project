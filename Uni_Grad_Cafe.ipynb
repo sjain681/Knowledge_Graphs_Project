{
 "cells": [
  {
   "cell_type": "code",
   "execution_count": 1,
   "id": "691db2b0",
   "metadata": {},
   "outputs": [],
   "source": [
    "import pandas as pd"
   ]
  },
  {
   "cell_type": "code",
   "execution_count": 2,
   "id": "c5d72c69",
   "metadata": {},
   "outputs": [],
   "source": [
    "df2 = pd.read_csv('gradcafe.csv')"
   ]
  },
  {
   "cell_type": "code",
   "execution_count": 23,
   "id": "e5804367",
   "metadata": {},
   "outputs": [],
   "source": [
    "df1 = pd.read_csv('python/usnews.csv')"
   ]
  },
  {
   "cell_type": "code",
   "execution_count": 24,
   "id": "54db1ab8",
   "metadata": {},
   "outputs": [
    {
     "data": {
      "text/html": [
       "<div>\n",
       "<style scoped>\n",
       "    .dataframe tbody tr th:only-of-type {\n",
       "        vertical-align: middle;\n",
       "    }\n",
       "\n",
       "    .dataframe tbody tr th {\n",
       "        vertical-align: top;\n",
       "    }\n",
       "\n",
       "    .dataframe thead th {\n",
       "        text-align: right;\n",
       "    }\n",
       "</style>\n",
       "<table border=\"1\" class=\"dataframe\">\n",
       "  <thead>\n",
       "    <tr style=\"text-align: right;\">\n",
       "      <th></th>\n",
       "      <th>ID</th>\n",
       "      <th>name</th>\n",
       "      <th>url</th>\n",
       "      <th>location</th>\n",
       "      <th>no. of reviews</th>\n",
       "      <th>description</th>\n",
       "      <th>tuition</th>\n",
       "      <th>enrollment</th>\n",
       "    </tr>\n",
       "  </thead>\n",
       "  <tbody>\n",
       "    <tr>\n",
       "      <th>0</th>\n",
       "      <td>0</td>\n",
       "      <td>Princeton University</td>\n",
       "      <td>https://www.usnews.com//best-colleges/princeto...</td>\n",
       "      <td>Princeton, NJ</td>\n",
       "      <td>19 reviews</td>\n",
       "      <td>The ivy-covered campus of Princeton University...</td>\n",
       "      <td>$56,010</td>\n",
       "      <td>4,773(fall 2020)</td>\n",
       "    </tr>\n",
       "    <tr>\n",
       "      <th>1</th>\n",
       "      <td>1</td>\n",
       "      <td>Columbia University</td>\n",
       "      <td>https://www.usnews.com//best-colleges/columbia...</td>\n",
       "      <td>New York, NY</td>\n",
       "      <td>39 reviews</td>\n",
       "      <td>Columbia University has three undergraduate sc...</td>\n",
       "      <td>$63,530</td>\n",
       "      <td>6,170(fall 2020)</td>\n",
       "    </tr>\n",
       "    <tr>\n",
       "      <th>2</th>\n",
       "      <td>2</td>\n",
       "      <td>Harvard University</td>\n",
       "      <td>https://www.usnews.com//best-colleges/harvard-...</td>\n",
       "      <td>Cambridge, MA</td>\n",
       "      <td>17 reviews</td>\n",
       "      <td>Harvard University is a private institution in...</td>\n",
       "      <td>$55,587</td>\n",
       "      <td>5,222(fall 2020)</td>\n",
       "    </tr>\n",
       "    <tr>\n",
       "      <th>3</th>\n",
       "      <td>3</td>\n",
       "      <td>Massachusetts Institute of Technology</td>\n",
       "      <td>https://www.usnews.com//best-colleges/massachu...</td>\n",
       "      <td>Cambridge, MA</td>\n",
       "      <td>12 reviews</td>\n",
       "      <td>Though the Massachusetts Institute of Technolo...</td>\n",
       "      <td>$55,878</td>\n",
       "      <td>4,361(fall 2020)</td>\n",
       "    </tr>\n",
       "    <tr>\n",
       "      <th>4</th>\n",
       "      <td>4</td>\n",
       "      <td>Yale University</td>\n",
       "      <td>https://www.usnews.com//best-colleges/yale-uni...</td>\n",
       "      <td>New Haven, CT</td>\n",
       "      <td>10 reviews</td>\n",
       "      <td>Yale University, located in New Haven, Connect...</td>\n",
       "      <td>$59,950</td>\n",
       "      <td>4,703(fall 2020)</td>\n",
       "    </tr>\n",
       "    <tr>\n",
       "      <th>...</th>\n",
       "      <td>...</td>\n",
       "      <td>...</td>\n",
       "      <td>...</td>\n",
       "      <td>...</td>\n",
       "      <td>...</td>\n",
       "      <td>...</td>\n",
       "      <td>...</td>\n",
       "      <td>...</td>\n",
       "    </tr>\n",
       "    <tr>\n",
       "      <th>145</th>\n",
       "      <td>145</td>\n",
       "      <td>University of the Pacific</td>\n",
       "      <td>https://www.usnews.com//best-colleges/universi...</td>\n",
       "      <td>Stockton, CA</td>\n",
       "      <td>4 reviews</td>\n",
       "      <td>The University of the Pacific is a private col...</td>\n",
       "      <td>$52,352</td>\n",
       "      <td>3,524(fall 2020)</td>\n",
       "    </tr>\n",
       "    <tr>\n",
       "      <th>146</th>\n",
       "      <td>146</td>\n",
       "      <td>University of Tulsa</td>\n",
       "      <td>https://www.usnews.com//best-colleges/universi...</td>\n",
       "      <td>Tulsa, OK</td>\n",
       "      <td>6 reviews</td>\n",
       "      <td>Students at the University of Tulsa leave with...</td>\n",
       "      <td>$44,838</td>\n",
       "      <td>2,929(fall 2020)</td>\n",
       "    </tr>\n",
       "    <tr>\n",
       "      <th>147</th>\n",
       "      <td>147</td>\n",
       "      <td>Colorado State University</td>\n",
       "      <td>https://www.usnews.com//best-colleges/colorado...</td>\n",
       "      <td>Fort Collins, CO</td>\n",
       "      <td>6 reviews</td>\n",
       "      <td>Colorado State University, also known as CSU, ...</td>\n",
       "      <td>$31,540(out-of-state)</td>\n",
       "      <td>25,186(fall 2020)</td>\n",
       "    </tr>\n",
       "    <tr>\n",
       "      <th>148</th>\n",
       "      <td>148</td>\n",
       "      <td>CUNY--City College</td>\n",
       "      <td>https://www.usnews.com//best-colleges/cuny-cit...</td>\n",
       "      <td>New York, NY</td>\n",
       "      <td>3 reviews</td>\n",
       "      <td>Founded in 1847, CUNY--City College is a publi...</td>\n",
       "      <td>$19,010(out-of-state)</td>\n",
       "      <td>12,587(fall 2020)</td>\n",
       "    </tr>\n",
       "    <tr>\n",
       "      <th>149</th>\n",
       "      <td>149</td>\n",
       "      <td>Duquesne University</td>\n",
       "      <td>https://www.usnews.com//best-colleges/duquesne...</td>\n",
       "      <td>Pittsburgh, PA</td>\n",
       "      <td>3 reviews</td>\n",
       "      <td>Founded in 1878, Duquesne University is a priv...</td>\n",
       "      <td>$43,526</td>\n",
       "      <td>5,383(fall 2020)</td>\n",
       "    </tr>\n",
       "  </tbody>\n",
       "</table>\n",
       "<p>150 rows × 8 columns</p>\n",
       "</div>"
      ],
      "text/plain": [
       "      ID                                   name  \\\n",
       "0      0                   Princeton University   \n",
       "1      1                    Columbia University   \n",
       "2      2                     Harvard University   \n",
       "3      3  Massachusetts Institute of Technology   \n",
       "4      4                        Yale University   \n",
       "..   ...                                    ...   \n",
       "145  145              University of the Pacific   \n",
       "146  146                    University of Tulsa   \n",
       "147  147              Colorado State University   \n",
       "148  148                     CUNY--City College   \n",
       "149  149                    Duquesne University   \n",
       "\n",
       "                                                   url          location  \\\n",
       "0    https://www.usnews.com//best-colleges/princeto...     Princeton, NJ   \n",
       "1    https://www.usnews.com//best-colleges/columbia...      New York, NY   \n",
       "2    https://www.usnews.com//best-colleges/harvard-...     Cambridge, MA   \n",
       "3    https://www.usnews.com//best-colleges/massachu...     Cambridge, MA   \n",
       "4    https://www.usnews.com//best-colleges/yale-uni...     New Haven, CT   \n",
       "..                                                 ...               ...   \n",
       "145  https://www.usnews.com//best-colleges/universi...      Stockton, CA   \n",
       "146  https://www.usnews.com//best-colleges/universi...         Tulsa, OK   \n",
       "147  https://www.usnews.com//best-colleges/colorado...  Fort Collins, CO   \n",
       "148  https://www.usnews.com//best-colleges/cuny-cit...      New York, NY   \n",
       "149  https://www.usnews.com//best-colleges/duquesne...    Pittsburgh, PA   \n",
       "\n",
       "    no. of reviews                                        description  \\\n",
       "0       19 reviews  The ivy-covered campus of Princeton University...   \n",
       "1       39 reviews  Columbia University has three undergraduate sc...   \n",
       "2       17 reviews  Harvard University is a private institution in...   \n",
       "3       12 reviews  Though the Massachusetts Institute of Technolo...   \n",
       "4       10 reviews  Yale University, located in New Haven, Connect...   \n",
       "..             ...                                                ...   \n",
       "145      4 reviews  The University of the Pacific is a private col...   \n",
       "146      6 reviews  Students at the University of Tulsa leave with...   \n",
       "147      6 reviews  Colorado State University, also known as CSU, ...   \n",
       "148      3 reviews  Founded in 1847, CUNY--City College is a publi...   \n",
       "149      3 reviews  Founded in 1878, Duquesne University is a priv...   \n",
       "\n",
       "                   tuition         enrollment  \n",
       "0                 $56,010    4,773(fall 2020)  \n",
       "1                 $63,530    6,170(fall 2020)  \n",
       "2                 $55,587    5,222(fall 2020)  \n",
       "3                 $55,878    4,361(fall 2020)  \n",
       "4                 $59,950    4,703(fall 2020)  \n",
       "..                     ...                ...  \n",
       "145               $52,352    3,524(fall 2020)  \n",
       "146               $44,838    2,929(fall 2020)  \n",
       "147  $31,540(out-of-state)  25,186(fall 2020)  \n",
       "148  $19,010(out-of-state)  12,587(fall 2020)  \n",
       "149               $43,526    5,383(fall 2020)  \n",
       "\n",
       "[150 rows x 8 columns]"
      ]
     },
     "execution_count": 24,
     "metadata": {},
     "output_type": "execute_result"
    }
   ],
   "source": [
    "df1"
   ]
  },
  {
   "cell_type": "code",
   "execution_count": 5,
   "id": "f82f0da3",
   "metadata": {},
   "outputs": [],
   "source": [
    "df1['tuition'] = df1['tuition'].apply(lambda a:a.split('(')[0].split('$')[1])\n",
    "df1['tuition'] = df1['tuition'].apply(lambda x: x.replace(',', ''))\n",
    "df1['tuition'] = df1['tuition'].apply(pd.to_numeric)"
   ]
  },
  {
   "cell_type": "code",
   "execution_count": 6,
   "id": "3e99f08a",
   "metadata": {},
   "outputs": [],
   "source": [
    "df1['enrollment'] = df1['enrollment'].apply(lambda a:a.split('(')[0])\n",
    "df1['enrollment'] = df1['enrollment'].apply(lambda x: x.replace(',', ''))\n",
    "df1['enrollment'] = df1['enrollment'].apply(pd.to_numeric)"
   ]
  },
  {
   "cell_type": "code",
   "execution_count": 7,
   "id": "14327afd",
   "metadata": {},
   "outputs": [
    {
     "data": {
      "text/html": [
       "<div>\n",
       "<style scoped>\n",
       "    .dataframe tbody tr th:only-of-type {\n",
       "        vertical-align: middle;\n",
       "    }\n",
       "\n",
       "    .dataframe tbody tr th {\n",
       "        vertical-align: top;\n",
       "    }\n",
       "\n",
       "    .dataframe thead th {\n",
       "        text-align: right;\n",
       "    }\n",
       "</style>\n",
       "<table border=\"1\" class=\"dataframe\">\n",
       "  <thead>\n",
       "    <tr style=\"text-align: right;\">\n",
       "      <th></th>\n",
       "      <th>Unnamed: 0</th>\n",
       "      <th>name</th>\n",
       "      <th>url</th>\n",
       "      <th>location</th>\n",
       "      <th>no. of reviews</th>\n",
       "      <th>description</th>\n",
       "      <th>tuition</th>\n",
       "      <th>enrollment</th>\n",
       "    </tr>\n",
       "  </thead>\n",
       "  <tbody>\n",
       "    <tr>\n",
       "      <th>0</th>\n",
       "      <td>0</td>\n",
       "      <td>Princeton University</td>\n",
       "      <td>https://www.usnews.com//best-colleges/princeto...</td>\n",
       "      <td>Princeton, NJ</td>\n",
       "      <td>19 reviews</td>\n",
       "      <td>The ivy-covered campus of Princeton University...</td>\n",
       "      <td>56010</td>\n",
       "      <td>4773</td>\n",
       "    </tr>\n",
       "    <tr>\n",
       "      <th>1</th>\n",
       "      <td>1</td>\n",
       "      <td>Columbia University</td>\n",
       "      <td>https://www.usnews.com//best-colleges/columbia...</td>\n",
       "      <td>New York, NY</td>\n",
       "      <td>39 reviews</td>\n",
       "      <td>Columbia University has three undergraduate sc...</td>\n",
       "      <td>63530</td>\n",
       "      <td>6170</td>\n",
       "    </tr>\n",
       "    <tr>\n",
       "      <th>2</th>\n",
       "      <td>2</td>\n",
       "      <td>Harvard University</td>\n",
       "      <td>https://www.usnews.com//best-colleges/harvard-...</td>\n",
       "      <td>Cambridge, MA</td>\n",
       "      <td>17 reviews</td>\n",
       "      <td>Harvard University is a private institution in...</td>\n",
       "      <td>55587</td>\n",
       "      <td>5222</td>\n",
       "    </tr>\n",
       "    <tr>\n",
       "      <th>3</th>\n",
       "      <td>3</td>\n",
       "      <td>Massachusetts Institute of Technology</td>\n",
       "      <td>https://www.usnews.com//best-colleges/massachu...</td>\n",
       "      <td>Cambridge, MA</td>\n",
       "      <td>12 reviews</td>\n",
       "      <td>Though the Massachusetts Institute of Technolo...</td>\n",
       "      <td>55878</td>\n",
       "      <td>4361</td>\n",
       "    </tr>\n",
       "    <tr>\n",
       "      <th>4</th>\n",
       "      <td>4</td>\n",
       "      <td>Yale University</td>\n",
       "      <td>https://www.usnews.com//best-colleges/yale-uni...</td>\n",
       "      <td>New Haven, CT</td>\n",
       "      <td>10 reviews</td>\n",
       "      <td>Yale University, located in New Haven, Connect...</td>\n",
       "      <td>59950</td>\n",
       "      <td>4703</td>\n",
       "    </tr>\n",
       "    <tr>\n",
       "      <th>...</th>\n",
       "      <td>...</td>\n",
       "      <td>...</td>\n",
       "      <td>...</td>\n",
       "      <td>...</td>\n",
       "      <td>...</td>\n",
       "      <td>...</td>\n",
       "      <td>...</td>\n",
       "      <td>...</td>\n",
       "    </tr>\n",
       "    <tr>\n",
       "      <th>145</th>\n",
       "      <td>145</td>\n",
       "      <td>University of the Pacific</td>\n",
       "      <td>https://www.usnews.com//best-colleges/universi...</td>\n",
       "      <td>Stockton, CA</td>\n",
       "      <td>4 reviews</td>\n",
       "      <td>The University of the Pacific is a private col...</td>\n",
       "      <td>52352</td>\n",
       "      <td>3524</td>\n",
       "    </tr>\n",
       "    <tr>\n",
       "      <th>146</th>\n",
       "      <td>146</td>\n",
       "      <td>University of Tulsa</td>\n",
       "      <td>https://www.usnews.com//best-colleges/universi...</td>\n",
       "      <td>Tulsa, OK</td>\n",
       "      <td>6 reviews</td>\n",
       "      <td>Students at the University of Tulsa leave with...</td>\n",
       "      <td>44838</td>\n",
       "      <td>2929</td>\n",
       "    </tr>\n",
       "    <tr>\n",
       "      <th>147</th>\n",
       "      <td>147</td>\n",
       "      <td>Colorado State University</td>\n",
       "      <td>https://www.usnews.com//best-colleges/colorado...</td>\n",
       "      <td>Fort Collins, CO</td>\n",
       "      <td>6 reviews</td>\n",
       "      <td>Colorado State University, also known as CSU, ...</td>\n",
       "      <td>31540</td>\n",
       "      <td>25186</td>\n",
       "    </tr>\n",
       "    <tr>\n",
       "      <th>148</th>\n",
       "      <td>148</td>\n",
       "      <td>CUNY--City College</td>\n",
       "      <td>https://www.usnews.com//best-colleges/cuny-cit...</td>\n",
       "      <td>New York, NY</td>\n",
       "      <td>3 reviews</td>\n",
       "      <td>Founded in 1847, CUNY--City College is a publi...</td>\n",
       "      <td>19010</td>\n",
       "      <td>12587</td>\n",
       "    </tr>\n",
       "    <tr>\n",
       "      <th>149</th>\n",
       "      <td>149</td>\n",
       "      <td>Duquesne University</td>\n",
       "      <td>https://www.usnews.com//best-colleges/duquesne...</td>\n",
       "      <td>Pittsburgh, PA</td>\n",
       "      <td>3 reviews</td>\n",
       "      <td>Founded in 1878, Duquesne University is a priv...</td>\n",
       "      <td>43526</td>\n",
       "      <td>5383</td>\n",
       "    </tr>\n",
       "  </tbody>\n",
       "</table>\n",
       "<p>150 rows × 8 columns</p>\n",
       "</div>"
      ],
      "text/plain": [
       "     Unnamed: 0                                   name  \\\n",
       "0             0                   Princeton University   \n",
       "1             1                    Columbia University   \n",
       "2             2                     Harvard University   \n",
       "3             3  Massachusetts Institute of Technology   \n",
       "4             4                        Yale University   \n",
       "..          ...                                    ...   \n",
       "145         145              University of the Pacific   \n",
       "146         146                    University of Tulsa   \n",
       "147         147              Colorado State University   \n",
       "148         148                     CUNY--City College   \n",
       "149         149                    Duquesne University   \n",
       "\n",
       "                                                   url          location  \\\n",
       "0    https://www.usnews.com//best-colleges/princeto...     Princeton, NJ   \n",
       "1    https://www.usnews.com//best-colleges/columbia...      New York, NY   \n",
       "2    https://www.usnews.com//best-colleges/harvard-...     Cambridge, MA   \n",
       "3    https://www.usnews.com//best-colleges/massachu...     Cambridge, MA   \n",
       "4    https://www.usnews.com//best-colleges/yale-uni...     New Haven, CT   \n",
       "..                                                 ...               ...   \n",
       "145  https://www.usnews.com//best-colleges/universi...      Stockton, CA   \n",
       "146  https://www.usnews.com//best-colleges/universi...         Tulsa, OK   \n",
       "147  https://www.usnews.com//best-colleges/colorado...  Fort Collins, CO   \n",
       "148  https://www.usnews.com//best-colleges/cuny-cit...      New York, NY   \n",
       "149  https://www.usnews.com//best-colleges/duquesne...    Pittsburgh, PA   \n",
       "\n",
       "    no. of reviews                                        description  \\\n",
       "0       19 reviews  The ivy-covered campus of Princeton University...   \n",
       "1       39 reviews  Columbia University has three undergraduate sc...   \n",
       "2       17 reviews  Harvard University is a private institution in...   \n",
       "3       12 reviews  Though the Massachusetts Institute of Technolo...   \n",
       "4       10 reviews  Yale University, located in New Haven, Connect...   \n",
       "..             ...                                                ...   \n",
       "145      4 reviews  The University of the Pacific is a private col...   \n",
       "146      6 reviews  Students at the University of Tulsa leave with...   \n",
       "147      6 reviews  Colorado State University, also known as CSU, ...   \n",
       "148      3 reviews  Founded in 1847, CUNY--City College is a publi...   \n",
       "149      3 reviews  Founded in 1878, Duquesne University is a priv...   \n",
       "\n",
       "     tuition  enrollment  \n",
       "0      56010        4773  \n",
       "1      63530        6170  \n",
       "2      55587        5222  \n",
       "3      55878        4361  \n",
       "4      59950        4703  \n",
       "..       ...         ...  \n",
       "145    52352        3524  \n",
       "146    44838        2929  \n",
       "147    31540       25186  \n",
       "148    19010       12587  \n",
       "149    43526        5383  \n",
       "\n",
       "[150 rows x 8 columns]"
      ]
     },
     "execution_count": 7,
     "metadata": {},
     "output_type": "execute_result"
    }
   ],
   "source": [
    "df1"
   ]
  },
  {
   "cell_type": "code",
   "execution_count": 8,
   "id": "2d5a1d6d",
   "metadata": {},
   "outputs": [],
   "source": [
    "from tqdm import tqdm\n",
    "import pandas as pd\n",
    "import re\n",
    "import base64\n",
    "import rdflib\n",
    "from rdflib import URIRef, Literal, Namespace, BNode\n",
    "from rdflib.namespace import RDF, RDFS, XSD\n",
    "import math"
   ]
  },
  {
   "cell_type": "code",
   "execution_count": 9,
   "id": "01b60229",
   "metadata": {},
   "outputs": [],
   "source": [
    "user_string = \"http://dsci558.com/User/id/\"\n",
    "uni_string = \"http://dsci558.com/University/id/\"\n",
    "state_string = \"http://dsci558.com/State/id/\""
   ]
  },
  {
   "cell_type": "code",
   "execution_count": 10,
   "id": "84f8e74c",
   "metadata": {},
   "outputs": [],
   "source": [
    "MYNS = Namespace('https://isi.edu/MYNS/namespace#')\n",
    "SCHEMA = Namespace(\"https://schema.org/\")"
   ]
  },
  {
   "cell_type": "code",
   "execution_count": 11,
   "id": "e4689a5b",
   "metadata": {},
   "outputs": [],
   "source": [
    "g = rdflib.Graph()\n",
    "\n",
    "# Bind namespace and prefixes\n",
    "g.bind('schema', SCHEMA)\n",
    "g.bind('rdf', RDF)\n",
    "g.bind('rdfs', RDFS)\n",
    "g.bind('xsd', XSD)\n",
    "g.bind('myns',MYNS)"
   ]
  },
  {
   "cell_type": "markdown",
   "id": "b0d2437d",
   "metadata": {},
   "source": [
    "# Load Predictions"
   ]
  },
  {
   "cell_type": "code",
   "execution_count": 12,
   "id": "081faae5",
   "metadata": {},
   "outputs": [],
   "source": [
    "predictions = pd.read_csv(\"Saurabh_Jain_predictions.csv\",header= None)"
   ]
  },
  {
   "cell_type": "code",
   "execution_count": 13,
   "id": "0e5f42db",
   "metadata": {},
   "outputs": [],
   "source": [
    "new_pred = predictions[predictions[2]==True]"
   ]
  },
  {
   "cell_type": "code",
   "execution_count": 14,
   "id": "c6e8f54b",
   "metadata": {},
   "outputs": [
    {
     "name": "stderr",
     "output_type": "stream",
     "text": [
      "100%|███████████████████████████████████| 49743/49743 [00:24<00:00, 2026.22it/s]\n"
     ]
    }
   ],
   "source": [
    "for index,row in tqdm(df2.iterrows(),total=len(df2)):\n",
    "    \n",
    "    node_uri = URIRef(user_string+str(row['ID']))\n",
    "    g.add((node_uri, RDF.type, SCHEMA.ProfilePage))\n",
    "    g.add((node_uri, SCHEMA.identifier, Literal(row['ID'])))\n",
    "    g.add((node_uri, MYNS.major, Literal(row['major'])))\n",
    "    g.add((node_uri, MYNS.degree, Literal(row['degree'])))\n",
    "    g.add((node_uri, MYNS.season, Literal(row['season'])))\n",
    "    g.add((node_uri, MYNS.decision, Literal(row['decision'])))\n",
    "    g.add((node_uri, MYNS.decision_method, Literal(row['decision_method'])))\n",
    "    g.add((node_uri, SCHEMA[\"Date\"], Literal(row['decision_date'])))\n",
    "    g.add((node_uri, MYNS.gpa, Literal(row['gpa'])))\n",
    "    g.add((node_uri, MYNS.gre_verbal, Literal(row['gre_verbal'])))\n",
    "    g.add((node_uri, MYNS.gre_quant, Literal(row['gre_quant'])))\n",
    "    g.add((node_uri, MYNS.gre_writing, Literal(row['gre_writing'])))\n",
    "\n",
    "    # Add relation to university\n",
    "    try:\n",
    "        uni_id = new_pred[new_pred[1]==row['ID']][0].iloc[0]\n",
    "#         uni_id = df1[df1['name']==row['university']].index[0]\n",
    "\n",
    "        uni_uri = URIRef(uni_string+str(uni_id))\n",
    "        g.add((node_uri, SCHEMA[\"name\"], uni_uri)) #SCHEMA.CollegeOrUniversity\n",
    "    except:\n",
    "        pass"
   ]
  },
  {
   "cell_type": "code",
   "execution_count": 15,
   "id": "5a43b258",
   "metadata": {},
   "outputs": [],
   "source": [
    "getState = lambda a:a.split(',')[1].strip()"
   ]
  },
  {
   "cell_type": "code",
   "execution_count": 16,
   "id": "38dea156",
   "metadata": {},
   "outputs": [],
   "source": [
    "states = list(df1['location'].apply(getState).unique())"
   ]
  },
  {
   "cell_type": "code",
   "execution_count": 17,
   "id": "a4434333",
   "metadata": {},
   "outputs": [
    {
     "name": "stderr",
     "output_type": "stream",
     "text": [
      "150it [00:00, 5441.87it/s]\n"
     ]
    }
   ],
   "source": [
    "for index,row in tqdm(df1.iterrows()):\n",
    "    node_uri = URIRef(uni_string+str(index))\n",
    "    g.add((node_uri, RDF.type, SCHEMA.CollegeOrUniversity))\n",
    "    g.add((node_uri, SCHEMA[\"name\"], Literal(row['name'])))\n",
    "    g.add((node_uri, SCHEMA[\"url\"], Literal(row['url'])))\n",
    "    g.add((node_uri, SCHEMA[\"location\"], Literal(row['location'])))\n",
    "    g.add((node_uri, SCHEMA[\"value\"], Literal(row['tuition'])))\n",
    "    g.add((node_uri, SCHEMA[\"text\"], Literal(row['description'])))\n",
    "    g.add((node_uri, SCHEMA[\"maximumEnrollment\"], Literal(row['enrollment'])))\n",
    "    \n",
    "    st = states.index(getState(row['location']))\n",
    "    \n",
    "    state_uri = URIRef(state_string+str(st))\n",
    "    g.add((node_uri, SCHEMA[\"address\"], state_uri)) #SCHEMA.CollegeOrUniversity"
   ]
  },
  {
   "cell_type": "code",
   "execution_count": 18,
   "id": "e4307590",
   "metadata": {},
   "outputs": [
    {
     "name": "stderr",
     "output_type": "stream",
     "text": [
      "100%|████████████████████████████████████████| 38/38 [00:00<00:00, 28006.25it/s]\n"
     ]
    }
   ],
   "source": [
    "for index,row in tqdm(enumerate(states),total = len(states)):\n",
    "    node_uri = URIRef(state_string+str(index))\n",
    "    g.add((node_uri, RDF.type, SCHEMA.State))\n",
    "    g.add((node_uri, SCHEMA.Name, Literal(row)))"
   ]
  },
  {
   "cell_type": "code",
   "execution_count": 19,
   "id": "ced5dea8",
   "metadata": {
    "scrolled": false
   },
   "outputs": [
    {
     "data": {
      "text/plain": [
       "<Graph identifier=Nfbc584c7ff754c4faae1c494504a7538 (<class 'rdflib.graph.Graph'>)>"
      ]
     },
     "execution_count": 19,
     "metadata": {},
     "output_type": "execute_result"
    }
   ],
   "source": [
    "g.serialize('my_graph.ttl',format='turtle')"
   ]
  },
  {
   "cell_type": "markdown",
   "id": "df5fbd3b",
   "metadata": {},
   "source": [
    "MATCH (n)\n",
    "DETACH DELETE n"
   ]
  },
  {
   "cell_type": "markdown",
   "id": "0de33e7c",
   "metadata": {},
   "source": [
    "CALL n10s.graphconfig.init()"
   ]
  },
  {
   "cell_type": "markdown",
   "id": "1b47e915",
   "metadata": {},
   "source": [
    "CALL n10s.rdf.import.fetch(\"file:///Users/saurabhjain/Documents/USC/Semester 3/DSCI 558 - Knowledge Graphs/Project/my_graph.ttl\",\"Turtle\");"
   ]
  },
  {
   "cell_type": "code",
   "execution_count": 20,
   "id": "f108cc72",
   "metadata": {},
   "outputs": [
    {
     "name": "stdout",
     "output_type": "stream",
     "text": [
      "/Users/saurabhjain/Documents/USC/Semester 3/DSCI 558 - Knowledge Graphs/Project\r\n"
     ]
    }
   ],
   "source": [
    "!pwd"
   ]
  },
  {
   "cell_type": "code",
   "execution_count": 21,
   "id": "60744350",
   "metadata": {},
   "outputs": [
    {
     "name": "stdout",
     "output_type": "stream",
     "text": [
      "==> my_graph.ttl <==\r\n",
      "@prefix myns: <https://isi.edu/MYNS/namespace#> .\r\n",
      "@prefix schema: <https://schema.org/> .\r\n",
      "@prefix xsd: <http://www.w3.org/2001/XMLSchema#> .\r\n",
      "\r\n",
      "<http://dsci558.com/University/id/100> a schema:CollegeOrUniversity ;\r\n",
      "    schema:address <http://dsci558.com/State/id/31> ;\r\n",
      "    schema:location \"Eugene, OR\" ;\r\n",
      "    schema:maximumEnrollment 18045 ;\r\n",
      "    schema:name \"University of Oregon\" ;\r\n",
      "    schema:text \"University of Oregon students have a variety of extracurricular options to choose from, including joining fraternities and sororities, cheering on the Ducks athletic teams, and checking out local art performances. More than 20 percent of students participate in Greek life.\" ;\r\n",
      "head: 1000: No such file or directory\r\n"
     ]
    }
   ],
   "source": [
    "!head my_graph.ttl 1000"
   ]
  },
  {
   "cell_type": "code",
   "execution_count": 22,
   "id": "2d7faeb8",
   "metadata": {},
   "outputs": [],
   "source": [
    "!cat my_graph.ttl | grep schema:Identifier"
   ]
  }
 ],
 "metadata": {
  "kernelspec": {
   "display_name": "Python 3 (ipykernel)",
   "language": "python",
   "name": "python3"
  },
  "language_info": {
   "codemirror_mode": {
    "name": "ipython",
    "version": 3
   },
   "file_extension": ".py",
   "mimetype": "text/x-python",
   "name": "python",
   "nbconvert_exporter": "python",
   "pygments_lexer": "ipython3",
   "version": "3.9.7"
  }
 },
 "nbformat": 4,
 "nbformat_minor": 5
}
