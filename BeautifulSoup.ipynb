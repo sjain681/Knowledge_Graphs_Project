{
 "cells": [
  {
   "cell_type": "code",
   "execution_count": 1,
   "id": "7b667623",
   "metadata": {},
   "outputs": [
    {
     "name": "stderr",
     "output_type": "stream",
     "text": [
      "/Users/saurabhjain/opt/anaconda3/envs/python/lib/python3.9/site-packages/requests/__init__.py:89: RequestsDependencyWarning: urllib3 (1.26.7) or chardet (3.0.4) doesn't match a supported version!\n",
      "  warnings.warn(\"urllib3 ({}) or chardet ({}) doesn't match a supported \"\n"
     ]
    }
   ],
   "source": [
    "import requests\n",
    "from bs4 import BeautifulSoup\n",
    "import re\n",
    "import csv"
   ]
  },
  {
   "cell_type": "code",
   "execution_count": 2,
   "id": "d767fc2f",
   "metadata": {},
   "outputs": [],
   "source": [
    "import os\n",
    "import pandas as pd"
   ]
  },
  {
   "cell_type": "code",
   "execution_count": 3,
   "id": "c97fbb54",
   "metadata": {},
   "outputs": [],
   "source": [
    "soup = BeautifulSoup(open(\"usnews_scrapper/usnews.rtf\").read())"
   ]
  },
  {
   "cell_type": "code",
   "execution_count": 4,
   "id": "3c8d2e2d",
   "metadata": {
    "scrolled": false
   },
   "outputs": [],
   "source": [
    "ls = soup.findAll('div', attrs={'class': 'Box-w0dun1-0'})"
   ]
  },
  {
   "cell_type": "code",
   "execution_count": 5,
   "id": "64bc36c7",
   "metadata": {},
   "outputs": [],
   "source": [
    "from tqdm.auto import tqdm"
   ]
  },
  {
   "cell_type": "code",
   "execution_count": 6,
   "id": "9dbfc56b",
   "metadata": {},
   "outputs": [],
   "source": [
    "ls = []\n",
    "for i in range(0,150):\n",
    "    uni_details = dict()\n",
    "    _id = f'school-{i}'\n",
    "    obj = soup.find(attrs={'id': _id})\n",
    "    name = obj.find('h3').getText()\n",
    "    uni_details['name'] = name\n",
    "    try:\n",
    "        url = 'https://www.usnews.com/' + obj.find(attrs={'class':'Anchor-byh49a-0 DetailCardColleges__StyledAnchor-cecerc-7 kQpddJ eKrerU card-name'})['href']\n",
    "        uni_details['url'] = url\n",
    "    except:\n",
    "        pass\n",
    "    try:\n",
    "        location = obj.find(attrs={'class': 'Paragraph-sc-1iyax29-0 gGpyTR'}).getText()\n",
    "        uni_details['location'] = location\n",
    "    except:\n",
    "        pass  \n",
    "    try:\n",
    "        no_reviews = obj.find(attrs={'class': 'Anchor-byh49a-0 jIzbDv ml2'}).getText()\n",
    "        uni_details['no. of reviews'] = no_reviews\n",
    "    except:\n",
    "        pass  \n",
    "    try:\n",
    "        description = obj.find(attrs={'class': 'Paragraph-sc-1iyax29-0 jdbslW'}).getText()\n",
    "        uni_details['description'] = description\n",
    "    except:\n",
    "        pass  \n",
    "    try:\n",
    "        tuition = obj.findAll(attrs={'class': 'QuickStatHug__Description-hb1bl8-1 bBQBxy'})[0].getText()\n",
    "        uni_details['tuition'] = tuition\n",
    "    except:\n",
    "        pass  \n",
    "    try:\n",
    "        enrollment = obj.findAll(attrs={'class': 'QuickStatHug__Description-hb1bl8-1 bBQBxy'})[-1].getText()\n",
    "        uni_details['enrollment'] = enrollment\n",
    "    except:\n",
    "        pass\n",
    "    ls.append(uni_details)"
   ]
  },
  {
   "cell_type": "code",
   "execution_count": 7,
   "id": "49229a29",
   "metadata": {},
   "outputs": [],
   "source": [
    "df = pd.DataFrame(ls)"
   ]
  },
  {
   "cell_type": "code",
   "execution_count": 8,
   "id": "1ee4afaa",
   "metadata": {},
   "outputs": [
    {
     "data": {
      "text/html": [
       "<div>\n",
       "<style scoped>\n",
       "    .dataframe tbody tr th:only-of-type {\n",
       "        vertical-align: middle;\n",
       "    }\n",
       "\n",
       "    .dataframe tbody tr th {\n",
       "        vertical-align: top;\n",
       "    }\n",
       "\n",
       "    .dataframe thead th {\n",
       "        text-align: right;\n",
       "    }\n",
       "</style>\n",
       "<table border=\"1\" class=\"dataframe\">\n",
       "  <thead>\n",
       "    <tr style=\"text-align: right;\">\n",
       "      <th></th>\n",
       "      <th>name</th>\n",
       "      <th>url</th>\n",
       "      <th>location</th>\n",
       "      <th>no. of reviews</th>\n",
       "      <th>description</th>\n",
       "      <th>tuition</th>\n",
       "      <th>enrollment</th>\n",
       "    </tr>\n",
       "  </thead>\n",
       "  <tbody>\n",
       "    <tr>\n",
       "      <th>0</th>\n",
       "      <td>Princeton University</td>\n",
       "      <td>https://www.usnews.com//best-colleges/princeto...</td>\n",
       "      <td>Princeton, NJ</td>\n",
       "      <td>19 reviews</td>\n",
       "      <td>The ivy-covered campus of Princeton University...</td>\n",
       "      <td>$56,010</td>\n",
       "      <td>4,773(fall 2020)</td>\n",
       "    </tr>\n",
       "    <tr>\n",
       "      <th>1</th>\n",
       "      <td>Columbia University</td>\n",
       "      <td>https://www.usnews.com//best-colleges/columbia...</td>\n",
       "      <td>New York, NY</td>\n",
       "      <td>39 reviews</td>\n",
       "      <td>Columbia University has three undergraduate sc...</td>\n",
       "      <td>$63,530</td>\n",
       "      <td>6,170(fall 2020)</td>\n",
       "    </tr>\n",
       "    <tr>\n",
       "      <th>2</th>\n",
       "      <td>Harvard University</td>\n",
       "      <td>https://www.usnews.com//best-colleges/harvard-...</td>\n",
       "      <td>Cambridge, MA</td>\n",
       "      <td>17 reviews</td>\n",
       "      <td>Harvard University is a private institution in...</td>\n",
       "      <td>$55,587</td>\n",
       "      <td>5,222(fall 2020)</td>\n",
       "    </tr>\n",
       "    <tr>\n",
       "      <th>3</th>\n",
       "      <td>Massachusetts Institute of Technology</td>\n",
       "      <td>https://www.usnews.com//best-colleges/massachu...</td>\n",
       "      <td>Cambridge, MA</td>\n",
       "      <td>12 reviews</td>\n",
       "      <td>Though the Massachusetts Institute of Technolo...</td>\n",
       "      <td>$55,878</td>\n",
       "      <td>4,361(fall 2020)</td>\n",
       "    </tr>\n",
       "    <tr>\n",
       "      <th>4</th>\n",
       "      <td>Yale University</td>\n",
       "      <td>https://www.usnews.com//best-colleges/yale-uni...</td>\n",
       "      <td>New Haven, CT</td>\n",
       "      <td>10 reviews</td>\n",
       "      <td>Yale University, located in New Haven, Connect...</td>\n",
       "      <td>$59,950</td>\n",
       "      <td>4,703(fall 2020)</td>\n",
       "    </tr>\n",
       "    <tr>\n",
       "      <th>...</th>\n",
       "      <td>...</td>\n",
       "      <td>...</td>\n",
       "      <td>...</td>\n",
       "      <td>...</td>\n",
       "      <td>...</td>\n",
       "      <td>...</td>\n",
       "      <td>...</td>\n",
       "    </tr>\n",
       "    <tr>\n",
       "      <th>145</th>\n",
       "      <td>University of the Pacific</td>\n",
       "      <td>https://www.usnews.com//best-colleges/universi...</td>\n",
       "      <td>Stockton, CA</td>\n",
       "      <td>4 reviews</td>\n",
       "      <td>The University of the Pacific is a private col...</td>\n",
       "      <td>$52,352</td>\n",
       "      <td>3,524(fall 2020)</td>\n",
       "    </tr>\n",
       "    <tr>\n",
       "      <th>146</th>\n",
       "      <td>University of Tulsa</td>\n",
       "      <td>https://www.usnews.com//best-colleges/universi...</td>\n",
       "      <td>Tulsa, OK</td>\n",
       "      <td>6 reviews</td>\n",
       "      <td>Students at the University of Tulsa leave with...</td>\n",
       "      <td>$44,838</td>\n",
       "      <td>2,929(fall 2020)</td>\n",
       "    </tr>\n",
       "    <tr>\n",
       "      <th>147</th>\n",
       "      <td>Colorado State University</td>\n",
       "      <td>https://www.usnews.com//best-colleges/colorado...</td>\n",
       "      <td>Fort Collins, CO</td>\n",
       "      <td>6 reviews</td>\n",
       "      <td>Colorado State University, also known as CSU, ...</td>\n",
       "      <td>$31,540(out-of-state)</td>\n",
       "      <td>25,186(fall 2020)</td>\n",
       "    </tr>\n",
       "    <tr>\n",
       "      <th>148</th>\n",
       "      <td>CUNY--City College</td>\n",
       "      <td>https://www.usnews.com//best-colleges/cuny-cit...</td>\n",
       "      <td>New York, NY</td>\n",
       "      <td>3 reviews</td>\n",
       "      <td>Founded in 1847, CUNY--City College is a publi...</td>\n",
       "      <td>$19,010(out-of-state)</td>\n",
       "      <td>12,587(fall 2020)</td>\n",
       "    </tr>\n",
       "    <tr>\n",
       "      <th>149</th>\n",
       "      <td>Duquesne University</td>\n",
       "      <td>https://www.usnews.com//best-colleges/duquesne...</td>\n",
       "      <td>Pittsburgh, PA</td>\n",
       "      <td>3 reviews</td>\n",
       "      <td>Founded in 1878, Duquesne University is a priv...</td>\n",
       "      <td>$43,526</td>\n",
       "      <td>5,383(fall 2020)</td>\n",
       "    </tr>\n",
       "  </tbody>\n",
       "</table>\n",
       "<p>150 rows × 7 columns</p>\n",
       "</div>"
      ],
      "text/plain": [
       "                                      name  \\\n",
       "0                     Princeton University   \n",
       "1                      Columbia University   \n",
       "2                       Harvard University   \n",
       "3    Massachusetts Institute of Technology   \n",
       "4                          Yale University   \n",
       "..                                     ...   \n",
       "145              University of the Pacific   \n",
       "146                    University of Tulsa   \n",
       "147              Colorado State University   \n",
       "148                     CUNY--City College   \n",
       "149                    Duquesne University   \n",
       "\n",
       "                                                   url          location  \\\n",
       "0    https://www.usnews.com//best-colleges/princeto...     Princeton, NJ   \n",
       "1    https://www.usnews.com//best-colleges/columbia...      New York, NY   \n",
       "2    https://www.usnews.com//best-colleges/harvard-...     Cambridge, MA   \n",
       "3    https://www.usnews.com//best-colleges/massachu...     Cambridge, MA   \n",
       "4    https://www.usnews.com//best-colleges/yale-uni...     New Haven, CT   \n",
       "..                                                 ...               ...   \n",
       "145  https://www.usnews.com//best-colleges/universi...      Stockton, CA   \n",
       "146  https://www.usnews.com//best-colleges/universi...         Tulsa, OK   \n",
       "147  https://www.usnews.com//best-colleges/colorado...  Fort Collins, CO   \n",
       "148  https://www.usnews.com//best-colleges/cuny-cit...      New York, NY   \n",
       "149  https://www.usnews.com//best-colleges/duquesne...    Pittsburgh, PA   \n",
       "\n",
       "    no. of reviews                                        description  \\\n",
       "0       19 reviews  The ivy-covered campus of Princeton University...   \n",
       "1       39 reviews  Columbia University has three undergraduate sc...   \n",
       "2       17 reviews  Harvard University is a private institution in...   \n",
       "3       12 reviews  Though the Massachusetts Institute of Technolo...   \n",
       "4       10 reviews  Yale University, located in New Haven, Connect...   \n",
       "..             ...                                                ...   \n",
       "145      4 reviews  The University of the Pacific is a private col...   \n",
       "146      6 reviews  Students at the University of Tulsa leave with...   \n",
       "147      6 reviews  Colorado State University, also known as CSU, ...   \n",
       "148      3 reviews  Founded in 1847, CUNY--City College is a publi...   \n",
       "149      3 reviews  Founded in 1878, Duquesne University is a priv...   \n",
       "\n",
       "                   tuition         enrollment  \n",
       "0                  $56,010   4,773(fall 2020)  \n",
       "1                  $63,530   6,170(fall 2020)  \n",
       "2                  $55,587   5,222(fall 2020)  \n",
       "3                  $55,878   4,361(fall 2020)  \n",
       "4                  $59,950   4,703(fall 2020)  \n",
       "..                     ...                ...  \n",
       "145                $52,352   3,524(fall 2020)  \n",
       "146                $44,838   2,929(fall 2020)  \n",
       "147  $31,540(out-of-state)  25,186(fall 2020)  \n",
       "148  $19,010(out-of-state)  12,587(fall 2020)  \n",
       "149                $43,526   5,383(fall 2020)  \n",
       "\n",
       "[150 rows x 7 columns]"
      ]
     },
     "execution_count": 8,
     "metadata": {},
     "output_type": "execute_result"
    }
   ],
   "source": [
    "df"
   ]
  },
  {
   "cell_type": "code",
   "execution_count": 9,
   "id": "16471d6a",
   "metadata": {},
   "outputs": [],
   "source": [
    "df.to_csv(\"usnews.csv\")"
   ]
  },
  {
   "cell_type": "code",
   "execution_count": null,
   "id": "31cdd706",
   "metadata": {},
   "outputs": [],
   "source": [
    "ls"
   ]
  },
  {
   "cell_type": "code",
   "execution_count": null,
   "id": "23465dc3",
   "metadata": {},
   "outputs": [],
   "source": [
    "obj.find('h3')"
   ]
  },
  {
   "cell_type": "code",
   "execution_count": null,
   "id": "7357ade5",
   "metadata": {},
   "outputs": [],
   "source": [
    "obj.find(attrs={'class': 'Anchor-byh49a-0 jIzbDv ml2'}).getText()"
   ]
  },
  {
   "cell_type": "code",
   "execution_count": null,
   "id": "d32ac7a1",
   "metadata": {},
   "outputs": [],
   "source": [
    "print(soup.findAll(attrs={'id': 'school-0'})[0].prettify())"
   ]
  },
  {
   "cell_type": "code",
   "execution_count": null,
   "id": "065c7dd5",
   "metadata": {},
   "outputs": [],
   "source": [
    "obj = soup.find(attrs={'id': 'school-148'})"
   ]
  },
  {
   "cell_type": "code",
   "execution_count": null,
   "id": "3d3c729c",
   "metadata": {},
   "outputs": [],
   "source": [
    "'https://www.usnews.com/' + obj.find(attrs={'class':'Anchor-byh49a-0 DetailCardColleges__StyledAnchor-cecerc-7 kQpddJ eKrerU card-name'})['href']"
   ]
  },
  {
   "cell_type": "code",
   "execution_count": null,
   "id": "59f7038c",
   "metadata": {},
   "outputs": [],
   "source": [
    "obj.find('h3').getText()"
   ]
  },
  {
   "cell_type": "code",
   "execution_count": null,
   "id": "9812f3fb",
   "metadata": {},
   "outputs": [],
   "source": [
    "obj.find(attrs={'class': 'Paragraph-sc-1iyax29-0 gGpyTR'}).getText()"
   ]
  },
  {
   "cell_type": "code",
   "execution_count": null,
   "id": "0948d93a",
   "metadata": {},
   "outputs": [],
   "source": [
    "obj.find(attrs={'class': 'Anchor-byh49a-0 jIzbDv ml2'}).getText()"
   ]
  },
  {
   "cell_type": "code",
   "execution_count": null,
   "id": "d329b0e7",
   "metadata": {},
   "outputs": [],
   "source": [
    "obj.find(attrs={'class': 'Paragraph-sc-1iyax29-0 jdbslW'}).getText()"
   ]
  },
  {
   "cell_type": "code",
   "execution_count": null,
   "id": "ccb40d6e",
   "metadata": {},
   "outputs": [],
   "source": [
    "obj.findAll(attrs={'class': 'QuickStatHug__Description-hb1bl8-1 bBQBxy'})[0].getText()"
   ]
  },
  {
   "cell_type": "code",
   "execution_count": null,
   "id": "38c8f98a",
   "metadata": {},
   "outputs": [],
   "source": [
    "obj.findAll(attrs={'class': 'QuickStatHug__Description-hb1bl8-1 bBQBxy'})[1].getText()"
   ]
  },
  {
   "cell_type": "code",
   "execution_count": null,
   "id": "2857a47e",
   "metadata": {},
   "outputs": [],
   "source": [
    "obj.findAll(attrs={'class': 'QuickStatHug__Description-hb1bl8-1 bBQBxy'})[-1].getText()"
   ]
  },
  {
   "cell_type": "code",
   "execution_count": null,
   "id": "7d11429e",
   "metadata": {},
   "outputs": [],
   "source": [
    "obj.findAll(attrs={'class': 'QuickStatHug__Description-hb1bl8-1 bBQBxy'})"
   ]
  }
 ],
 "metadata": {
  "kernelspec": {
   "display_name": "Python 3 (ipykernel)",
   "language": "python",
   "name": "python3"
  },
  "language_info": {
   "codemirror_mode": {
    "name": "ipython",
    "version": 3
   },
   "file_extension": ".py",
   "mimetype": "text/x-python",
   "name": "python",
   "nbconvert_exporter": "python",
   "pygments_lexer": "ipython3",
   "version": "3.9.7"
  }
 },
 "nbformat": 4,
 "nbformat_minor": 5
}
